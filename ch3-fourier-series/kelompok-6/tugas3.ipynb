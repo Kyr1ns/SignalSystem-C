{
 "cells": [
  {
   "cell_type": "markdown",
   "id": "f439c4eb",
   "metadata": {},
   "source": [
    "# Tugas 3 Sinsis\n",
    "Menganalisis dan melihat spektrum suara"
   ]
  },
  {
   "cell_type": "markdown",
   "id": "8de37702",
   "metadata": {},
   "source": [
    "### Sampel Audio 1 - Rekaman\n",
    "\n",
    "1. Grafik Plot Spectrum\n",
    "\n",
    "<div style=\"text-align: center;\">\n",
    "  <img src=\"./plot/rekaman-plot-spectrum.png\" width=\"25%\" height=\"25%\">\n",
    "</div>\n",
    "\n",
    "2. Grafik Plot Low-pass\n",
    "<div style=\"text-align: center;\">\n",
    "  <img src=\"./plot/rekaman-plot-low-pass.png\" width=\"25%\" height=\"25%\">\n",
    "</div>\n",
    "\n",
    "3. Grafik Plot High-pass\n",
    "<div style=\"text-align: center;\">\n",
    "  <img src=\"./plot/rekaman-plot-high-pass.png\" width=\"25%\" height=\"25%\">\n",
    "</div>\n",
    "\n",
    "4. Grafik Plot EQ (Walkie-Talkie)\n",
    "<div style=\"text-align: center;\">\n",
    "  <img src=\"./plot/rekaman-plot-eq-walkie-talkie.png\" width=\"25%\" height=\"25%\">\n",
    "</div>\n",
    "\n",
    "#### Pembahasan\n",
    "Efek EQ Walkie-Talkie membuat suara rekaman terdengar sempit dan fokus pada frekuensi menengah, sehingga suara menjadi lebih jelas untuk percakapan namun kehilangan nuansa bass dan treble, menghasilkan karakter seperti komunikasi radio dua arah."
   ]
  },
  {
   "cell_type": "markdown",
   "id": "a1d479e6",
   "metadata": {},
   "source": [
    "### Sampel Audio 2 - Piano\n",
    "\n",
    "1. Grafik Plot Spectrum\n",
    "\n",
    "<div style=\"text-align: center;\">\n",
    "  <img src=\"./plot/piano-plot-spectrum.png\" width=\"25%\" height=\"25%\">\n",
    "</div>\n",
    "\n",
    "2. Grafik Plot Low-pass\n",
    "<div style=\"text-align: center;\">\n",
    "  <img src=\"./plot/piano-plot-low-pass.png\" width=\"25%\" height=\"25%\">\n",
    "</div>\n",
    "\n",
    "3. Grafik Plot High-pass\n",
    "<div style=\"text-align: center;\">\n",
    "  <img src=\"./plot/piano-plot-high-pass.png\" width=\"25%\" height=\"25%\">\n",
    "</div>\n",
    "\n",
    "4. Grafik Plot EQ (RIAA)\n",
    "<div style=\"text-align: center;\">\n",
    "  <img src=\"./plot/piano-plot-eq-riaa.png\" width=\"25%\" height=\"25%\">\n",
    "</div>\n",
    "\n",
    "#### Pembahasan\n",
    "Penerapan EQ RIAA pada piano memberikan nuansa hangat dan klasik dengan penekanan pada frekuensi rendah serta pengurangan frekuensi tinggi, sehingga suara piano terdengar lebih bulat dan lembut, mirip karakter piringan hitam."
   ]
  },
  {
   "cell_type": "markdown",
   "id": "cc4b659f",
   "metadata": {},
   "source": [
    "### Sampel Audio 3 - Lagu\n",
    "\n",
    "1. Grafik Plot Spectrum\n",
    "\n",
    "<div style=\"text-align: center;\">\n",
    "  <img src=\"./plot/music-plot-spectrum.png\" width=\"25%\" height=\"25%\">\n",
    "</div>\n",
    "\n",
    "2. Grafik Plot Low-pass\n",
    "<div style=\"text-align: center;\">\n",
    "  <img src=\"./plot/music-plot-low-pass.png\" width=\"25%\" height=\"25%\">\n",
    "</div>\n",
    "\n",
    "3. Grafik Plot High-pass\n",
    "<div style=\"text-align: center;\">\n",
    "  <img src=\"./plot/piano-plot-high-pass.png\" width=\"25%\" height=\"25%\">\n",
    "</div>\n",
    "\n",
    "4. Grafik Plot EQ (AM Radio)\n",
    "<div style=\"text-align: center;\">\n",
    "  <img src=\"./plot/music-plot-eq-am-radio.png\" width=\"25%\" height=\"25%\">\n",
    "</div>\n",
    "\n",
    "#### Pembahasan\n",
    "Efek EQ AM Radio pada lagu menghasilkan suara yang tipis dan kurang detail, dengan dominasi frekuensi menengah serta pemotongan bass dan treble, sehingga lagu terdengar seperti siaran radio lama dengan kualitas audio yang terbatas."
   ]
  },
  {
   "cell_type": "markdown",
   "id": "46efd15d",
   "metadata": {},
   "source": [
    "### Grafik Sinyal Kotak dan Sawtooth Menggunakan Python"
   ]
  },
  {
   "cell_type": "markdown",
   "id": "a34a29e8",
   "metadata": {},
   "source": [
    "### Sinyak Kotak (sinyal-kotak.py)\n",
    "<div style=\"text-align: center;\">\n",
    "  <img src=\"./plot/sinyal-kotak.png\" width=\"40%\" height=\"40%\">\n",
    "</div>\n",
    "\n",
    "### Sinyak Sawtooth (sinyal-sawtooth.py)\n",
    "<div style=\"text-align: center;\">\n",
    "  <img src=\"./plot/sinyal-sawtooth.png\" width=\"40%\" height=\"40%\">\n",
    "</div>"
   ]
  }
 ],
 "metadata": {
  "language_info": {
   "name": "python"
  }
 },
 "nbformat": 4,
 "nbformat_minor": 5
}
