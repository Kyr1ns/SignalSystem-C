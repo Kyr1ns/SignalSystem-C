{
 "cells": [
  {
   "cell_type": "markdown",
   "id": "fe4bf56e",
   "metadata": {},
   "source": [
    "# Chapter 3 : Fourier Series\n",
    "\n"
   ]
  },
  {
   "cell_type": "markdown",
   "id": "e84963c1",
   "metadata": {},
   "source": [
    "## Analisis Spektrum\n",
    "\n",
    "---\n",
    "\n",
    "Kali ini, sampel suara yang telah kami siapkan akan kita analisis spektrum penyusun dari suara tersebut menggunakan tools Plot Spectrum dari Aplikasi Audacity. Dengan menggunakan tools Plot Spectrum, nantinya kita bisa menampilkan grafik kekuatan terhadap frekuensi suara yang ada dari sampel yang telah kita siapkan.\n",
    "\n",
    "---\n",
    "\n",
    "#### Dasar Teori Singkat\n",
    "\n",
    "##### Audacity\n",
    "\n",
    "**Audacity** adalah perangkat lunak open-source yang kerap digunakan untuk merekam, mengedit, dan menganalisis audio digital yang kita rekam menggunakan perangkat keras (seperti laptop). Software ini banyak digunakan dalam bidang *audio engineering,* penelitian, maupun pembelajaran akademik karena kemudahan dalam mengakses aplikasi ini, lintas platfrom, ringan, dan memiliki fitur dasar yang sangat lengkap. Dengan aplikasi Audacity, kita bisa melakukan perekaman suara, pemotongan, penggabungan, pengolahan efek yang tersedia, serta analisis spketrum sinyal audo dalam bentuk grafis.\n",
    "\n",
    "##### Efek EQ (Equalization) dan Filters\n",
    "\n",
    "**Equalization** adalah proses mengatur tingkat (gain) dari komponen frekuensi tertentu pada sinyal audio. EQ digunakan untuk mempertegas, mengurangi, atau menyeimbangkan karakter suara. Misalnya:\n",
    "- Low frequencies (bass): menambah “berat” atau mengurangi “boomy” pada suara.\n",
    "- Mid frequencies: mempengaruhi kejernihan vokal dan instrumen.\n",
    "- High frequencies (treble): menambah detail atau mengurangi “sibilance”.\n",
    "\n",
    "**Filters** dalam audio adalah alat yang digunakan untuk menyaring komponen frekuensi tertentu. Beberapa contoh filter:\n",
    "- Low-pass filter (LPF): hanya melewatkan frekuensi rendah dan memblokir frekuensi tinggi.\n",
    "- High-pass filter (HPF): melewatkan frekuensi tinggi dan memblokir frekuensi rendah.\n",
    "- Band-pass filter (BPF): hanya melewatkan frekuensi pada rentang tertentu.\n",
    "- Notch filter: meredam frekuensi sempit tertentu (misalnya untuk menghilangkan noise 50 Hz).\n",
    "\n",
    "Dalam Audacity, efek EQ dan filter digunakan untuk memperbaiki kualitas audio, menghilangkan noise, atau membentuk karakter suara sesuai kebutuhan.\n",
    "\n"
   ]
  },
  {
   "cell_type": "markdown",
   "id": "5ff89782",
   "metadata": {},
   "source": [
    "\n",
    "### Sampel 1 : Suara Piano\n",
    "\n",
    "#### Graphics Plot\n",
    "\n",
    "1. Grafik Plot Spectrum\n",
    "2. Grafik EQ\n",
    "3. Grafik Low-Pass\n",
    "4. Grafik High-Pass\n",
    "\n",
    "#### Pembahasan\n"
   ]
  },
  {
   "cell_type": "markdown",
   "id": "c10569a9",
   "metadata": {},
   "source": [
    "\n",
    "### Sampel 2 : Suara Rekaman\n",
    "\n",
    "#### Graphics Plot\n",
    "\n",
    "1. Grafik Plot Spectrum\n",
    "2. Grafik EQ\n",
    "3. Grafik Low-Pass\n",
    "4. Grafik High-Pass\n",
    "\n",
    "#### Pembahasan\n"
   ]
  },
  {
   "cell_type": "markdown",
   "id": "7b868e89",
   "metadata": {},
   "source": [
    "\n",
    "### Sampel 3 : Suara Lagu JJ\n",
    "\n",
    "#### Graphics Plot\n",
    "\n",
    "1. Grafik Plot Spectrum\n",
    "2. Grafik EQ\n",
    "3. Grafik Low-Pass\n",
    "4. Grafik High-Pass\n",
    "\n",
    "#### Pembahasan"
   ]
  },
  {
   "cell_type": "markdown",
   "id": "68df0c2e",
   "metadata": {},
   "source": [
    "## Fourier Series Grafik\n",
    "\n",
    "---\n",
    "\n",
    "Pada percobaan kali ini, Kami mencoba membuat sebuah grafik sawtooth pada matlab/python(matplotlib). Setelah itu, kami akan mencoba menguriakan sinyal tersebut dengan menggunakan metode Fourier Series serta menampilkan persamaan fourier series tersebut\n",
    "\n",
    "---"
   ]
  },
  {
   "cell_type": "markdown",
   "id": "a3f11916",
   "metadata": {},
   "source": [
    "### Dasar Teori\n",
    "\n",
    "#### Fourier Series\n",
    "\n",
    "Fourier Series adalah metode matematis untuk merepresentasikan sinyal periodik sebagai penjumlahan fungsi sinusoidal (sinus dan kosinus) dengan frekuensi kelipatan bilangan bulat dari frekuensi fundamental. Konsep ini pertama kali diperkenalkan oleh Joseph Fourier, yang menunjukkan bahwa setiap sinyal periodik dapat diuraikan menjadi komponen harmoniknya.\n",
    "\n",
    "Secara umum, suatu sinyal periodik \n",
    "𝑥 (𝑡) x(t) \n",
    "dengan periode \n",
    "𝑇\n",
    "T dapat dituliskan sebagai:\n",
    "\n",
    "$$\n",
    "x(t) = a_0 + \\sum_{n=1}^{\\infty} \\left( a_n \\cos\\left(\\frac{2\\pi n}{T}t\\right) + b_n \\sin\\left(\\frac{2\\pi n}{T}t\\right) \\right)\n",
    "$$\n",
    "\n",
    "dengan koefisien Fourier:\n",
    "\n",
    "$$\n",
    "a_0 = \\frac{1}{T} \\int_{0}^{T} x(t)\\, dt\n",
    "$$\n",
    "\n",
    "$$\n",
    "a_n = \\frac{2}{T} \\int_{0}^{T} x(t) \\cos\\left(\\frac{2\\pi n}{T}t\\right) dt\n",
    "$$\n",
    "\n",
    "$$\n",
    "b_n = \\frac{2}{T} \\int_{0}^{T} x(t) \\sin\\left(\\frac{2\\pi n}{T}t\\right) dt\n",
    "$$\n",
    "\n",
    "Koefisien inilah yang menunjukkan kontribusi tiap harmonik sinusoidal dalam membentuk kembali sinyal asli."
   ]
  },
  {
   "cell_type": "markdown",
   "id": "84eb6b5f",
   "metadata": {},
   "source": [
    "#### Gelombang Sawtooth\n",
    "\n",
    "Gelombang sawtooth adalah salah satu bentuk sinyal periodik yang banyak dipakai dalam elektronika, musik digital, maupun sistem komunikasi. Bentuk dasarnya mirip gigi gergaji: naik secara linier lalu jatuh tiba-tiba.\n",
    "\n",
    "Fungsi gelombang sawtooth periodik dengan periode \n",
    "𝑇\n",
    "T dapat direpresentasikan melalui Fourier Series sebagai:\n",
    "\n",
    "$$\n",
    "x(t) = \\frac{2}{\\pi} \\sum_{n=1}^{\\infty} \\frac{(-1)^{n+1}}{n} \\sin\\left( \\frac{2\\pi n}{T} t \\right)\n",
    "$$\n",
    "\n",
    "Dari persamaan tersebut terlihat bahwa gelombang sawtooth tersusun dari harmonik sinusoidal ganjil dan genap, dengan amplitudo menurun sebanding dengan $ \\frac{1}{n} $"
   ]
  },
  {
   "cell_type": "code",
   "execution_count": null,
   "id": "30787aaa",
   "metadata": {},
   "outputs": [],
   "source": []
  },
  {
   "cell_type": "markdown",
   "id": "7b4209e9",
   "metadata": {},
   "source": [
    "---\n",
    "\n",
    "## References\n",
    "\n",
    "[Byjus : Fourier Series](https://byjus.com/maths/fourier-series/)\n",
    "\n",
    "[TutorialsPoint : Plotting a Sawtooth Wave using Matplotlib](https://www.tutorialspoint.com/plotting-a-sawtooth-wave-using-matplotlib)\n",
    "\n",
    "[Interactive Mathematics : Fourier Series Graph Interactive](https://www.intmath.com/fourier-series/fourier-graph-applet.php)\n",
    "\n",
    "[Wolfram MathWorld : Fourier Series--Sawtooth Wave](https://mathworld.wolfram.com/FourierSeriesSawtoothWave.html)"
   ]
  }
 ],
 "metadata": {
  "language_info": {
   "name": "python"
  }
 },
 "nbformat": 4,
 "nbformat_minor": 5
}
