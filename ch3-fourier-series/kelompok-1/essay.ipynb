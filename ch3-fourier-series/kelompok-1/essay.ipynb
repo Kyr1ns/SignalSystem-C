{
 "cells": [
  {
   "cell_type": "markdown",
   "id": "fe4bf56e",
   "metadata": {},
   "source": [
    "# Chapter 3 : Fourier Series\n",
    "\n"
   ]
  },
  {
   "cell_type": "markdown",
   "id": "e84963c1",
   "metadata": {},
   "source": [
    "## Analisis Spektrum\n",
    "\n",
    "---\n",
    "\n",
    "Kali ini, sampel suara yang telah kami siapkan akan kita analisis spektrum penyusun dari suara tersebut menggunakan tools Plot Spectrum dari Aplikasi Audacity. Dengan menggunakan tools Plot Spectrum, nantinya kita bisa menampilkan grafik kekuatan terhadap frekuensi suara yang ada dari sampel yang telah kita siapkan.\n",
    "\n",
    "---\n",
    "\n",
    "#### Dasar Teori Singkat\n",
    "\n",
    "##### Audacity\n",
    "\n",
    "**Audacity** adalah perangkat lunak open-source yang kerap digunakan untuk merekam, mengedit, dan menganalisis audio digital yang kita rekam menggunakan perangkat keras (seperti laptop). Software ini banyak digunakan dalam bidang *audio engineering,* penelitian, maupun pembelajaran akademik karena kemudahan dalam mengakses aplikasi ini, lintas platfrom, ringan, dan memiliki fitur dasar yang sangat lengkap. Dengan aplikasi Audacity, kita bisa melakukan perekaman suara, pemotongan, penggabungan, pengolahan efek yang tersedia, serta analisis spketrum sinyal audo dalam bentuk grafis.\n",
    "\n",
    "##### Efek EQ (Equalization) dan Filters\n",
    "\n",
    "**Equalization** adalah proses mengatur tingkat (gain) dari komponen frekuensi tertentu pada sinyal audio. EQ digunakan untuk mempertegas, mengurangi, atau menyeimbangkan karakter suara. Misalnya:\n",
    "- Low frequencies (bass): menambah “berat” atau mengurangi “boomy” pada suara.\n",
    "- Mid frequencies: mempengaruhi kejernihan vokal dan instrumen.\n",
    "- High frequencies (treble): menambah detail atau mengurangi “sibilance”.\n",
    "\n",
    "**Filters** dalam audio adalah alat yang digunakan untuk menyaring komponen frekuensi tertentu. Beberapa contoh filter:\n",
    "- Low-pass filter (LPF): hanya melewatkan frekuensi rendah dan memblokir frekuensi tinggi.\n",
    "- High-pass filter (HPF): melewatkan frekuensi tinggi dan memblokir frekuensi rendah.\n",
    "- Band-pass filter (BPF): hanya melewatkan frekuensi pada rentang tertentu.\n",
    "- Notch filter: meredam frekuensi sempit tertentu (misalnya untuk menghilangkan noise 50 Hz).\n",
    "\n",
    "Dalam Audacity, efek EQ dan filter digunakan untuk memperbaiki kualitas audio, menghilangkan noise, atau membentuk karakter suara sesuai kebutuhan.\n",
    "\n",
    "\n",
    "### Sampel 1 : Suara Piano\n"
   ]
  },
  {
   "cell_type": "markdown",
   "id": "c10569a9",
   "metadata": {},
   "source": [
    "\n",
    "### Sampel 2 : Suara Rekaman\n"
   ]
  },
  {
   "cell_type": "markdown",
   "id": "7b868e89",
   "metadata": {},
   "source": [
    "\n",
    "### Sampel 3 : Suara Musik JJ"
   ]
  },
  {
   "cell_type": "markdown",
   "id": "68df0c2e",
   "metadata": {},
   "source": [
    "## Fourier Series Grafik\n",
    "\n",
    "---\n",
    "\n",
    "Pada percobaan kali ini, Kami mencoba membuat sebuah grafik sawtooth pada matlab/python(matplotlib). Setelah itu, kami akan mencoba menguriakan sinyal tersebut dengan menggunakan metode Fourier Series serta menampilkan persamaan fourier series tersebut\n",
    "\n",
    "---"
   ]
  },
  {
   "cell_type": "markdown",
   "id": "a3f11916",
   "metadata": {},
   "source": [
    "### Dasar Teori\n",
    "\n",
    "#### Fourier Series\n",
    "\n",
    "Fourier Series adalah metode matematis untuk merepresentasikan sinyal periodik sebagai penjumlahan fungsi sinusoidal (sinus dan kosinus) dengan frekuensi kelipatan bilangan bulat dari frekuensi fundamental. Konsep ini pertama kali diperkenalkan oleh Joseph Fourier, yang menunjukkan bahwa setiap sinyal periodik dapat diuraikan menjadi komponen harmoniknya.\n",
    "\n",
    "Secara umum, suatu sinyal periodik \n",
    "𝑥\n",
    "(\n",
    "𝑡\n",
    ")\n",
    "x(t) dengan periode \n",
    "𝑇\n",
    "T dapat dituliskan sebagai:"
   ]
  },
  {
   "cell_type": "code",
   "execution_count": null,
   "id": "30787aaa",
   "metadata": {},
   "outputs": [],
   "source": []
  }
 ],
 "metadata": {
  "language_info": {
   "name": "python"
  }
 },
 "nbformat": 4,
 "nbformat_minor": 5
}
