{
 "cells": [
  {
   "cell_type": "markdown",
   "id": "ccbb5321",
   "metadata": {},
   "source": [
    "*Kelompok 3*\n",
    "Najla Tsabitah (H1A024077)\n",
    "Kia Shadra A.B (H1A024127)\n",
    "Ahmad Faisal Falah (H1A024133)"
   ]
  },
  {
   "cell_type": "markdown",
   "id": "e2963b56",
   "metadata": {},
   "source": [
    "# Resume Konvolusi Diskrit\n",
    "\n",
    "secara umum, konvolusi didefinisikan sebagai suatu cara mengkombinasi dua buah deret angka yang menghasilkan deret angka yang ketiga. secara matematis, konvolusi adalah integral yang mencerminkan jumlah lingkungan dari sebuah fungsi a yang digeser atas fungsi b sehingga menghasilkan fungsi c. dalam sinyal dan sistem, konvolusi sangat penting karena berkaitan dengan sinyal input dan responsi impuls dari sistem untuk memproduksi sinyal output dari sistem. dengan kata lain, konvolusi digunakan untuk menunjukkan hubungan input dan output dalam sistem LTI. operasi konvolusi melibatkan pencerminan, pergeseran, perkalian, dan penjumlahan kedua sinyal tersebut. \n",
    "\n",
    "Konvolusi dibagi menjadi 2 macam, konvolusi diskrit dan konvulusi kontinyu. diskrit konvolusi adalah cara mengkombinasi dua buah deret angka yang menghasilkan deret angka yang ketiga, mencerminkan cara satu deret mempengaruhi deret ainnya. konvolusi diskrit hanya bekerja pada sinyal diskrit. Operasi ini didefinisikan sebagai penjumlahan hasil perkalian nilai-nilai yang tumpang tindih, di mana setiap elemen dari satu deret dikalikan dengan elemen yang bersesuaian dari deret lain, digeser dengan nilai integer. Operasi ini penting dalam berbagai aplikasi, termasuk pemrosesan sinyal dan analisis gambar, karena memungkinkan penyaringan dan transformasi sinyal diskrit. Konvolusi diskrit memainkan peran krusial dalam proses penyaringan dengan memungkinkan penerapan filter yang direpresentasikan sebagai kernel pada sinyal-sinyal diskrit. Ketika suatu sinyal dikonvolusi dengan filter, setiap nilai keluaran dihitung dengan menjumlahkan hasil perkalian elemen-elemen yang tumpang tindih dari sinyal dan filter. Proses ini membantu meningkatkan fitur yang diinginkan atau menghilangkan derau yang tidak diinginkan dari sinyal, sehingga penting dalam aplikasi seperti pemrosesan audio dan peningkatan citra."
   ]
  },
  {
   "cell_type": "markdown",
   "id": "1cf71c9b",
   "metadata": {},
   "source": [
    "$$\n",
    "y[n] = (x * h)[n] = \\sum_{k=-\\infty}^{\\infty} x[k] \\, h[n-k]\n",
    "$$\n",
    "\n",
    "#### Penjelasan:\n",
    "- \\( y[n] \\) adalah sinyal keluaran pada indeks \\( n \\).\n",
    "- \\( x[k] \\) adalah sinyal masukan pada indeks \\( k \\).\n",
    "- \\( h[n-k] \\) adalah respon impuls yang digeser (dilihat dari selisih waktu antara \\( n \\) dan \\( k \\)).\n",
    "- Tanda \\( \\sum_{k=-\\infty}^{\\infty} \\) menunjukkan penjumlahan semua pasangan nilai \\( x[k] \\) dan \\( h[n-k] \\).\n",
    "\n",
    "Intinya, konvolusi diskrit dilakukan dengan:\n",
    "1. **Membalik** \\( h[k] \\) menjadi \\( h[-k] \\),\n",
    "2. **Menggeser** fungsi yang sudah dibalik sebesar \\( n \\),\n",
    "3. **Mengalikan** elemen yang bersesuaian,\n",
    "4. **Menjumlahkan** hasil perkalian untuk setiap \\( k \\).\n",
    "\n",
    "Proses ini menghasilkan \\( y[n] \\), yaitu keluaran sistem untuk setiap indeks waktu diskrit \\( n \\)."
   ]
  },
  {
   "cell_type": "markdown",
   "id": "8a849e6f",
   "metadata": {},
   "source": []
  }
 ],
 "metadata": {
  "language_info": {
   "name": "python"
  }
 },
 "nbformat": 4,
 "nbformat_minor": 5
}
