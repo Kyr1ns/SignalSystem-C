{
 "cells": [
  {
   "cell_type": "markdown",
   "id": "cb58262d",
   "metadata": {},
   "source": [
    "# Essay Signal and System Chapter 2 : The Fundamental of Convolution\n",
    "\n"
   ]
  },
  {
   "cell_type": "markdown",
   "id": "3b64def7",
   "metadata": {},
   "source": [
    "Convolution adalah"
   ]
  }
 ],
 "metadata": {
  "language_info": {
   "name": "python"
  }
 },
 "nbformat": 4,
 "nbformat_minor": 5
}
