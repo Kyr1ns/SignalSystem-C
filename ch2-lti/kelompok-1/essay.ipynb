{
 "cells": [
  {
   "cell_type": "markdown",
   "id": "cb58262d",
   "metadata": {},
   "source": [
    "# Essay Signal and System Chapter 2 : The Fundamental of Convolution\n",
    "\n"
   ]
  },
  {
   "cell_type": "markdown",
   "id": "d8a6d7d2",
   "metadata": {},
   "source": [
    "Kelompok-1 :\n",
    "-Nahsr Ardy "
   ]
  },
  {
   "cell_type": "markdown",
   "id": "3b64def7",
   "metadata": {},
   "source": [
    "Konvolusi merupakan operasi fundamental dalam analisis sinyal dan sistem, baik dalam ranah kontinyu maupun diskrit. Operasi ini digunakan untuk menentukan respon sistem linear time-invariant (LTI) terhadap suatu sinyal masukan. Tulisan ini membahas definisi konvolusi diskrit, implementasinya menggunakan MATLAB, serta penjelasan langkah kerja kode yang digunakan untuk memvisualisasikan proses konvolusi. Tiga pendekatan diberikan: animasi sederhana, perhitungan step-by-step dengan penjelasan rinci, dan pendekatan tabular yang menampilkan proses dalam bentuk tabel.\n",
    "\n",
    "Dalam teori sinyal dan sistem, konvolusi adalah metode matematis untuk menghitung keluaran suatu sistem berdasarkan masukan dan respon impulsnya. Respon impuls h[n] merepresentasikan karakteristik sistem, sedangkan sinyal masukan x[n] menggambarkan stimulus yang diberikan pada sistem.\n",
    "\n",
    "Konvolusi diskrit dapat dipahami sebagai proses berikut:\n",
    "- Membalik respon impuls h[n] menjadi h[−k].\n",
    "- Menggeser sinyal hasil pembalikan sesuai indeks n\n",
    "- Mengalikan sinyal masukan x[k] dengan sinyal hasil geser h[n−k].\n",
    "- Menjumlahkan hasil perkalian pada seluruh indeks k untuk mendapatkan y[n]"
   ]
  }
 ],
 "metadata": {
  "language_info": {
   "name": "python"
  }
 },
 "nbformat": 4,
 "nbformat_minor": 5
}
